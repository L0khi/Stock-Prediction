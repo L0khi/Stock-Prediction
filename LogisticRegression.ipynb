{
 "cells": [
  {
   "cell_type": "markdown",
   "id": "8802b1d6",
   "metadata": {},
   "source": [
    "# 📈 Logistic Regression with Custom Preprocessing\n",
    "This notebook contains a hands-on implementation of **Logistic Regression** for binary classification, based on a banking dataset.\n",
    "\n",
    "### ✍️ Author Note\n",
    "I created this project a few months back while learning the fundamentals of ML pipelines.\n",
    "It covers:\n",
    "- One-hot encoding without `pd.get_dummies`\n",
    "- Balancing classes using `SMOTE`\n",
    "- Data normalization\n",
    "- Splitting into train/test sets\n",
    "\n",
    "**Inspired by projects and concepts from Karpathy and Andrew Ng.**"
   ]
  },
  {
   "cell_type": "code",
   "execution_count": 2,
   "id": "968a6d63-3093-403d-ae75-4a784b1bb26e",
   "metadata": {},
   "outputs": [],
   "source": [
    "#imorting the required libraries\n",
    "import numpy as np\n",
    "import pandas as pd\n",
    "import matplotlib.pyplot as plt"
   ]
  },
  {
   "cell_type": "code",
   "execution_count": 23,
   "id": "3141e849-5d82-4dcf-b7ba-bd8bcb9792fd",
   "metadata": {},
   "outputs": [
    {
     "name": "stdout",
     "output_type": "stream",
     "text": [
      "Processed Features Shape: (4521, 29)\n",
      "x_train Shape: (4000, 29)\n",
      "x_test Shape: (521, 29)\n",
      "y_train Shape: (4000, 1)\n",
      "y_test Shape: (521, 1)\n"
     ]
    },
    {
     "name": "stderr",
     "output_type": "stream",
     "text": [
      "C:\\Users\\kulwant dhillon\\AppData\\Local\\Temp\\ipykernel_80692\\2977923072.py:22: SettingWithCopyWarning: \n",
      "A value is trying to be set on a copy of a slice from a DataFrame.\n",
      "Try using .loc[row_indexer,col_indexer] = value instead\n",
      "\n",
      "See the caveats in the documentation: https://pandas.pydata.org/pandas-docs/stable/user_guide/indexing.html#returning-a-view-versus-a-copy\n",
      "  x.loc[:, col + '_encoded'] = x[col].map(category_to_int)  # Use .loc to avoid SettingWithCopyWarning\n"
     ]
    }
   ],
   "source": [
    "import numpy as np\n",
    "import pandas as pd\n",
    "\n",
    "# Load the dataset\n",
    "data = pd.read_csv(r\"C:\\Users\\kulwant dhillon\\Downloads\\bank refined.csv\")\n",
    "\n",
    "# Separate target and features\n",
    "y = data[['y']]\n",
    "x = data[['age', 'job', 'marital', 'education', 'housing', 'loan', 'balance', 'day', 'duration', 'campaign', 'previous']]\n",
    "\n",
    "# Categorical columns to encode\n",
    "categorical_columns = ['job', 'marital', 'education', 'housing', 'loan']\n",
    "\n",
    "# Initialize an empty list to store one-hot encoded arrays\n",
    "one_hot_encoded_list = []\n",
    "\n",
    "# Perform one-hot encoding for each categorical column\n",
    "for col in categorical_columns:\n",
    "    # Step 1: Map categories to integers\n",
    "    categories = x[col].unique()\n",
    "    category_to_int = {category: i for i, category in enumerate(categories)}\n",
    "    x.loc[:, col + '_encoded'] = x[col].map(category_to_int)  # Use .loc to avoid SettingWithCopyWarning\n",
    "    \n",
    "    # Step 2: Create one-hot encoded matrix using np.eye\n",
    "    num_categories = len(categories)\n",
    "    one_hot_encoded = np.eye(num_categories)[x[col + '_encoded']]\n",
    "    \n",
    "    # Append the one-hot encoded matrix to the list\n",
    "    one_hot_encoded_list.append(one_hot_encoded)\n",
    "\n",
    "# Step 3: Combine all one-hot encoded arrays\n",
    "X_encoded = np.hstack(one_hot_encoded_list)\n",
    "\n",
    "# Step 4: Combine encoded categorical features with numerical features\n",
    "numerical_columns = ['age', 'balance', 'day', 'duration', 'campaign', 'previous']\n",
    "X_numerical = x[numerical_columns].values\n",
    "X_processed = np.hstack((X_numerical, X_encoded))\n",
    "\n",
    "# Split the data into training and testing sets\n",
    "x_train = X_processed[0:4000]\n",
    "x_test = X_processed[4000:]\n",
    "y_train = y.iloc[0:4000].values\n",
    "y_test = y.iloc[4000:].values\n",
    "\n",
    "# Display the processed data\n",
    "print(\"Processed Features Shape:\", X_processed.shape)\n",
    "print(\"x_train Shape:\", x_train.shape)\n",
    "print(\"x_test Shape:\", x_test.shape)\n",
    "print(\"y_train Shape:\", y_train.shape)\n",
    "print(\"y_test Shape:\", y_test.shape)"
   ]
  },
  {
   "cell_type": "code",
   "execution_count": 21,
   "id": "d4c13700-3a53-422d-90b5-367608ca2989",
   "metadata": {},
   "outputs": [
    {
     "ename": "AttributeError",
     "evalue": "'NoneType' object has no attribute 'split'",
     "output_type": "error",
     "traceback": [
      "\u001b[1;31m---------------------------------------------------------------------------\u001b[0m",
      "\u001b[1;31mAttributeError\u001b[0m                            Traceback (most recent call last)",
      "Cell \u001b[1;32mIn[21], line 7\u001b[0m\n\u001b[0;32m      4\u001b[0m smote \u001b[38;5;241m=\u001b[39m SMOTE(random_state\u001b[38;5;241m=\u001b[39m\u001b[38;5;241m42\u001b[39m)\n\u001b[0;32m      6\u001b[0m \u001b[38;5;66;03m# Apply SMOTE to balance the dataset\u001b[39;00m\n\u001b[1;32m----> 7\u001b[0m x_train_resampled, y_train_resampled \u001b[38;5;241m=\u001b[39m smote\u001b[38;5;241m.\u001b[39mfit_resample(x_train, y_train)\n\u001b[0;32m      9\u001b[0m \u001b[38;5;66;03m# Check new class distribution\u001b[39;00m\n\u001b[0;32m     10\u001b[0m \u001b[38;5;28;01mimport\u001b[39;00m \u001b[38;5;21;01mnumpy\u001b[39;00m \u001b[38;5;28;01mas\u001b[39;00m \u001b[38;5;21;01mnp\u001b[39;00m\n",
      "File \u001b[1;32m~\\anaconda3\\Lib\\site-packages\\imblearn\\base.py:208\u001b[0m, in \u001b[0;36mBaseSampler.fit_resample\u001b[1;34m(self, X, y)\u001b[0m\n\u001b[0;32m    187\u001b[0m \u001b[38;5;250m\u001b[39m\u001b[38;5;124;03m\"\"\"Resample the dataset.\u001b[39;00m\n\u001b[0;32m    188\u001b[0m \n\u001b[0;32m    189\u001b[0m \u001b[38;5;124;03mParameters\u001b[39;00m\n\u001b[1;32m   (...)\u001b[0m\n\u001b[0;32m    205\u001b[0m \u001b[38;5;124;03m    The corresponding label of `X_resampled`.\u001b[39;00m\n\u001b[0;32m    206\u001b[0m \u001b[38;5;124;03m\"\"\"\u001b[39;00m\n\u001b[0;32m    207\u001b[0m \u001b[38;5;28mself\u001b[39m\u001b[38;5;241m.\u001b[39m_validate_params()\n\u001b[1;32m--> 208\u001b[0m \u001b[38;5;28;01mreturn\u001b[39;00m \u001b[38;5;28msuper\u001b[39m()\u001b[38;5;241m.\u001b[39mfit_resample(X, y)\n",
      "File \u001b[1;32m~\\anaconda3\\Lib\\site-packages\\imblearn\\base.py:112\u001b[0m, in \u001b[0;36mSamplerMixin.fit_resample\u001b[1;34m(self, X, y)\u001b[0m\n\u001b[0;32m    106\u001b[0m X, y, binarize_y \u001b[38;5;241m=\u001b[39m \u001b[38;5;28mself\u001b[39m\u001b[38;5;241m.\u001b[39m_check_X_y(X, y)\n\u001b[0;32m    108\u001b[0m \u001b[38;5;28mself\u001b[39m\u001b[38;5;241m.\u001b[39msampling_strategy_ \u001b[38;5;241m=\u001b[39m check_sampling_strategy(\n\u001b[0;32m    109\u001b[0m     \u001b[38;5;28mself\u001b[39m\u001b[38;5;241m.\u001b[39msampling_strategy, y, \u001b[38;5;28mself\u001b[39m\u001b[38;5;241m.\u001b[39m_sampling_type\n\u001b[0;32m    110\u001b[0m )\n\u001b[1;32m--> 112\u001b[0m output \u001b[38;5;241m=\u001b[39m \u001b[38;5;28mself\u001b[39m\u001b[38;5;241m.\u001b[39m_fit_resample(X, y)\n\u001b[0;32m    114\u001b[0m y_ \u001b[38;5;241m=\u001b[39m (\n\u001b[0;32m    115\u001b[0m     label_binarize(output[\u001b[38;5;241m1\u001b[39m], classes\u001b[38;5;241m=\u001b[39mnp\u001b[38;5;241m.\u001b[39munique(y)) \u001b[38;5;28;01mif\u001b[39;00m binarize_y \u001b[38;5;28;01melse\u001b[39;00m output[\u001b[38;5;241m1\u001b[39m]\n\u001b[0;32m    116\u001b[0m )\n\u001b[0;32m    118\u001b[0m X_, y_ \u001b[38;5;241m=\u001b[39m arrays_transformer\u001b[38;5;241m.\u001b[39mtransform(output[\u001b[38;5;241m0\u001b[39m], y_)\n",
      "File \u001b[1;32m~\\anaconda3\\Lib\\site-packages\\imblearn\\over_sampling\\_smote\\base.py:364\u001b[0m, in \u001b[0;36mSMOTE._fit_resample\u001b[1;34m(self, X, y)\u001b[0m\n\u001b[0;32m    361\u001b[0m X_class \u001b[38;5;241m=\u001b[39m _safe_indexing(X, target_class_indices)\n\u001b[0;32m    363\u001b[0m \u001b[38;5;28mself\u001b[39m\u001b[38;5;241m.\u001b[39mnn_k_\u001b[38;5;241m.\u001b[39mfit(X_class)\n\u001b[1;32m--> 364\u001b[0m nns \u001b[38;5;241m=\u001b[39m \u001b[38;5;28mself\u001b[39m\u001b[38;5;241m.\u001b[39mnn_k_\u001b[38;5;241m.\u001b[39mkneighbors(X_class, return_distance\u001b[38;5;241m=\u001b[39m\u001b[38;5;28;01mFalse\u001b[39;00m)[:, \u001b[38;5;241m1\u001b[39m:]\n\u001b[0;32m    365\u001b[0m X_new, y_new \u001b[38;5;241m=\u001b[39m \u001b[38;5;28mself\u001b[39m\u001b[38;5;241m.\u001b[39m_make_samples(\n\u001b[0;32m    366\u001b[0m     X_class, y\u001b[38;5;241m.\u001b[39mdtype, class_sample, X_class, nns, n_samples, \u001b[38;5;241m1.0\u001b[39m\n\u001b[0;32m    367\u001b[0m )\n\u001b[0;32m    368\u001b[0m X_resampled\u001b[38;5;241m.\u001b[39mappend(X_new)\n",
      "File \u001b[1;32m~\\anaconda3\\Lib\\site-packages\\sklearn\\neighbors\\_base.py:824\u001b[0m, in \u001b[0;36mKNeighborsMixin.kneighbors\u001b[1;34m(self, X, n_neighbors, return_distance)\u001b[0m\n\u001b[0;32m    817\u001b[0m use_pairwise_distances_reductions \u001b[38;5;241m=\u001b[39m (\n\u001b[0;32m    818\u001b[0m     \u001b[38;5;28mself\u001b[39m\u001b[38;5;241m.\u001b[39m_fit_method \u001b[38;5;241m==\u001b[39m \u001b[38;5;124m\"\u001b[39m\u001b[38;5;124mbrute\u001b[39m\u001b[38;5;124m\"\u001b[39m\n\u001b[0;32m    819\u001b[0m     \u001b[38;5;129;01mand\u001b[39;00m ArgKmin\u001b[38;5;241m.\u001b[39mis_usable_for(\n\u001b[0;32m    820\u001b[0m         X \u001b[38;5;28;01mif\u001b[39;00m X \u001b[38;5;129;01mis\u001b[39;00m \u001b[38;5;129;01mnot\u001b[39;00m \u001b[38;5;28;01mNone\u001b[39;00m \u001b[38;5;28;01melse\u001b[39;00m \u001b[38;5;28mself\u001b[39m\u001b[38;5;241m.\u001b[39m_fit_X, \u001b[38;5;28mself\u001b[39m\u001b[38;5;241m.\u001b[39m_fit_X, \u001b[38;5;28mself\u001b[39m\u001b[38;5;241m.\u001b[39meffective_metric_\n\u001b[0;32m    821\u001b[0m     )\n\u001b[0;32m    822\u001b[0m )\n\u001b[0;32m    823\u001b[0m \u001b[38;5;28;01mif\u001b[39;00m use_pairwise_distances_reductions:\n\u001b[1;32m--> 824\u001b[0m     results \u001b[38;5;241m=\u001b[39m ArgKmin\u001b[38;5;241m.\u001b[39mcompute(\n\u001b[0;32m    825\u001b[0m         X\u001b[38;5;241m=\u001b[39mX,\n\u001b[0;32m    826\u001b[0m         Y\u001b[38;5;241m=\u001b[39m\u001b[38;5;28mself\u001b[39m\u001b[38;5;241m.\u001b[39m_fit_X,\n\u001b[0;32m    827\u001b[0m         k\u001b[38;5;241m=\u001b[39mn_neighbors,\n\u001b[0;32m    828\u001b[0m         metric\u001b[38;5;241m=\u001b[39m\u001b[38;5;28mself\u001b[39m\u001b[38;5;241m.\u001b[39meffective_metric_,\n\u001b[0;32m    829\u001b[0m         metric_kwargs\u001b[38;5;241m=\u001b[39m\u001b[38;5;28mself\u001b[39m\u001b[38;5;241m.\u001b[39meffective_metric_params_,\n\u001b[0;32m    830\u001b[0m         strategy\u001b[38;5;241m=\u001b[39m\u001b[38;5;124m\"\u001b[39m\u001b[38;5;124mauto\u001b[39m\u001b[38;5;124m\"\u001b[39m,\n\u001b[0;32m    831\u001b[0m         return_distance\u001b[38;5;241m=\u001b[39mreturn_distance,\n\u001b[0;32m    832\u001b[0m     )\n\u001b[0;32m    834\u001b[0m \u001b[38;5;28;01melif\u001b[39;00m (\n\u001b[0;32m    835\u001b[0m     \u001b[38;5;28mself\u001b[39m\u001b[38;5;241m.\u001b[39m_fit_method \u001b[38;5;241m==\u001b[39m \u001b[38;5;124m\"\u001b[39m\u001b[38;5;124mbrute\u001b[39m\u001b[38;5;124m\"\u001b[39m \u001b[38;5;129;01mand\u001b[39;00m \u001b[38;5;28mself\u001b[39m\u001b[38;5;241m.\u001b[39mmetric \u001b[38;5;241m==\u001b[39m \u001b[38;5;124m\"\u001b[39m\u001b[38;5;124mprecomputed\u001b[39m\u001b[38;5;124m\"\u001b[39m \u001b[38;5;129;01mand\u001b[39;00m issparse(X)\n\u001b[0;32m    836\u001b[0m ):\n\u001b[0;32m    837\u001b[0m     results \u001b[38;5;241m=\u001b[39m _kneighbors_from_graph(\n\u001b[0;32m    838\u001b[0m         X, n_neighbors\u001b[38;5;241m=\u001b[39mn_neighbors, return_distance\u001b[38;5;241m=\u001b[39mreturn_distance\n\u001b[0;32m    839\u001b[0m     )\n",
      "File \u001b[1;32m~\\anaconda3\\Lib\\site-packages\\sklearn\\metrics\\_pairwise_distances_reduction\\_dispatcher.py:277\u001b[0m, in \u001b[0;36mArgKmin.compute\u001b[1;34m(cls, X, Y, k, metric, chunk_size, metric_kwargs, strategy, return_distance)\u001b[0m\n\u001b[0;32m    196\u001b[0m \u001b[38;5;250m\u001b[39m\u001b[38;5;124;03m\"\"\"Compute the argkmin reduction.\u001b[39;00m\n\u001b[0;32m    197\u001b[0m \n\u001b[0;32m    198\u001b[0m \u001b[38;5;124;03mParameters\u001b[39;00m\n\u001b[1;32m   (...)\u001b[0m\n\u001b[0;32m    274\u001b[0m \u001b[38;5;124;03mreturns.\u001b[39;00m\n\u001b[0;32m    275\u001b[0m \u001b[38;5;124;03m\"\"\"\u001b[39;00m\n\u001b[0;32m    276\u001b[0m \u001b[38;5;28;01mif\u001b[39;00m X\u001b[38;5;241m.\u001b[39mdtype \u001b[38;5;241m==\u001b[39m Y\u001b[38;5;241m.\u001b[39mdtype \u001b[38;5;241m==\u001b[39m np\u001b[38;5;241m.\u001b[39mfloat64:\n\u001b[1;32m--> 277\u001b[0m     \u001b[38;5;28;01mreturn\u001b[39;00m ArgKmin64\u001b[38;5;241m.\u001b[39mcompute(\n\u001b[0;32m    278\u001b[0m         X\u001b[38;5;241m=\u001b[39mX,\n\u001b[0;32m    279\u001b[0m         Y\u001b[38;5;241m=\u001b[39mY,\n\u001b[0;32m    280\u001b[0m         k\u001b[38;5;241m=\u001b[39mk,\n\u001b[0;32m    281\u001b[0m         metric\u001b[38;5;241m=\u001b[39mmetric,\n\u001b[0;32m    282\u001b[0m         chunk_size\u001b[38;5;241m=\u001b[39mchunk_size,\n\u001b[0;32m    283\u001b[0m         metric_kwargs\u001b[38;5;241m=\u001b[39mmetric_kwargs,\n\u001b[0;32m    284\u001b[0m         strategy\u001b[38;5;241m=\u001b[39mstrategy,\n\u001b[0;32m    285\u001b[0m         return_distance\u001b[38;5;241m=\u001b[39mreturn_distance,\n\u001b[0;32m    286\u001b[0m     )\n\u001b[0;32m    288\u001b[0m \u001b[38;5;28;01mif\u001b[39;00m X\u001b[38;5;241m.\u001b[39mdtype \u001b[38;5;241m==\u001b[39m Y\u001b[38;5;241m.\u001b[39mdtype \u001b[38;5;241m==\u001b[39m np\u001b[38;5;241m.\u001b[39mfloat32:\n\u001b[0;32m    289\u001b[0m     \u001b[38;5;28;01mreturn\u001b[39;00m ArgKmin32\u001b[38;5;241m.\u001b[39mcompute(\n\u001b[0;32m    290\u001b[0m         X\u001b[38;5;241m=\u001b[39mX,\n\u001b[0;32m    291\u001b[0m         Y\u001b[38;5;241m=\u001b[39mY,\n\u001b[1;32m   (...)\u001b[0m\n\u001b[0;32m    297\u001b[0m         return_distance\u001b[38;5;241m=\u001b[39mreturn_distance,\n\u001b[0;32m    298\u001b[0m     )\n",
      "File \u001b[1;32msklearn\\metrics\\_pairwise_distances_reduction\\_argkmin.pyx:95\u001b[0m, in \u001b[0;36msklearn.metrics._pairwise_distances_reduction._argkmin.ArgKmin64.compute\u001b[1;34m()\u001b[0m\n",
      "File \u001b[1;32m~\\anaconda3\\Lib\\site-packages\\sklearn\\utils\\fixes.py:139\u001b[0m, in \u001b[0;36mthreadpool_limits\u001b[1;34m(limits, user_api)\u001b[0m\n\u001b[0;32m    137\u001b[0m     \u001b[38;5;28;01mreturn\u001b[39;00m controller\u001b[38;5;241m.\u001b[39mlimit(limits\u001b[38;5;241m=\u001b[39mlimits, user_api\u001b[38;5;241m=\u001b[39muser_api)\n\u001b[0;32m    138\u001b[0m \u001b[38;5;28;01melse\u001b[39;00m:\n\u001b[1;32m--> 139\u001b[0m     \u001b[38;5;28;01mreturn\u001b[39;00m threadpoolctl\u001b[38;5;241m.\u001b[39mthreadpool_limits(limits\u001b[38;5;241m=\u001b[39mlimits, user_api\u001b[38;5;241m=\u001b[39muser_api)\n",
      "File \u001b[1;32m~\\anaconda3\\Lib\\site-packages\\threadpoolctl.py:171\u001b[0m, in \u001b[0;36mthreadpool_limits.__init__\u001b[1;34m(self, limits, user_api)\u001b[0m\n\u001b[0;32m    167\u001b[0m \u001b[38;5;28;01mdef\u001b[39;00m \u001b[38;5;21m__init__\u001b[39m(\u001b[38;5;28mself\u001b[39m, limits\u001b[38;5;241m=\u001b[39m\u001b[38;5;28;01mNone\u001b[39;00m, user_api\u001b[38;5;241m=\u001b[39m\u001b[38;5;28;01mNone\u001b[39;00m):\n\u001b[0;32m    168\u001b[0m     \u001b[38;5;28mself\u001b[39m\u001b[38;5;241m.\u001b[39m_limits, \u001b[38;5;28mself\u001b[39m\u001b[38;5;241m.\u001b[39m_user_api, \u001b[38;5;28mself\u001b[39m\u001b[38;5;241m.\u001b[39m_prefixes \u001b[38;5;241m=\u001b[39m \\\n\u001b[0;32m    169\u001b[0m         \u001b[38;5;28mself\u001b[39m\u001b[38;5;241m.\u001b[39m_check_params(limits, user_api)\n\u001b[1;32m--> 171\u001b[0m     \u001b[38;5;28mself\u001b[39m\u001b[38;5;241m.\u001b[39m_original_info \u001b[38;5;241m=\u001b[39m \u001b[38;5;28mself\u001b[39m\u001b[38;5;241m.\u001b[39m_set_threadpool_limits()\n",
      "File \u001b[1;32m~\\anaconda3\\Lib\\site-packages\\threadpoolctl.py:268\u001b[0m, in \u001b[0;36mthreadpool_limits._set_threadpool_limits\u001b[1;34m(self)\u001b[0m\n\u001b[0;32m    265\u001b[0m \u001b[38;5;28;01mif\u001b[39;00m \u001b[38;5;28mself\u001b[39m\u001b[38;5;241m.\u001b[39m_limits \u001b[38;5;129;01mis\u001b[39;00m \u001b[38;5;28;01mNone\u001b[39;00m:\n\u001b[0;32m    266\u001b[0m     \u001b[38;5;28;01mreturn\u001b[39;00m \u001b[38;5;28;01mNone\u001b[39;00m\n\u001b[1;32m--> 268\u001b[0m modules \u001b[38;5;241m=\u001b[39m _ThreadpoolInfo(prefixes\u001b[38;5;241m=\u001b[39m\u001b[38;5;28mself\u001b[39m\u001b[38;5;241m.\u001b[39m_prefixes,\n\u001b[0;32m    269\u001b[0m                           user_api\u001b[38;5;241m=\u001b[39m\u001b[38;5;28mself\u001b[39m\u001b[38;5;241m.\u001b[39m_user_api)\n\u001b[0;32m    270\u001b[0m \u001b[38;5;28;01mfor\u001b[39;00m module \u001b[38;5;129;01min\u001b[39;00m modules:\n\u001b[0;32m    271\u001b[0m     \u001b[38;5;66;03m# self._limits is a dict {key: num_threads} where key is either\u001b[39;00m\n\u001b[0;32m    272\u001b[0m     \u001b[38;5;66;03m# a prefix or a user_api. If a module matches both, the limit\u001b[39;00m\n\u001b[0;32m    273\u001b[0m     \u001b[38;5;66;03m# corresponding to the prefix is chosed.\u001b[39;00m\n\u001b[0;32m    274\u001b[0m     \u001b[38;5;28;01mif\u001b[39;00m module\u001b[38;5;241m.\u001b[39mprefix \u001b[38;5;129;01min\u001b[39;00m \u001b[38;5;28mself\u001b[39m\u001b[38;5;241m.\u001b[39m_limits:\n",
      "File \u001b[1;32m~\\anaconda3\\Lib\\site-packages\\threadpoolctl.py:340\u001b[0m, in \u001b[0;36m_ThreadpoolInfo.__init__\u001b[1;34m(self, user_api, prefixes, modules)\u001b[0m\n\u001b[0;32m    337\u001b[0m     \u001b[38;5;28mself\u001b[39m\u001b[38;5;241m.\u001b[39muser_api \u001b[38;5;241m=\u001b[39m [] \u001b[38;5;28;01mif\u001b[39;00m user_api \u001b[38;5;129;01mis\u001b[39;00m \u001b[38;5;28;01mNone\u001b[39;00m \u001b[38;5;28;01melse\u001b[39;00m user_api\n\u001b[0;32m    339\u001b[0m     \u001b[38;5;28mself\u001b[39m\u001b[38;5;241m.\u001b[39mmodules \u001b[38;5;241m=\u001b[39m []\n\u001b[1;32m--> 340\u001b[0m     \u001b[38;5;28mself\u001b[39m\u001b[38;5;241m.\u001b[39m_load_modules()\n\u001b[0;32m    341\u001b[0m     \u001b[38;5;28mself\u001b[39m\u001b[38;5;241m.\u001b[39m_warn_if_incompatible_openmp()\n\u001b[0;32m    342\u001b[0m \u001b[38;5;28;01melse\u001b[39;00m:\n",
      "File \u001b[1;32m~\\anaconda3\\Lib\\site-packages\\threadpoolctl.py:373\u001b[0m, in \u001b[0;36m_ThreadpoolInfo._load_modules\u001b[1;34m(self)\u001b[0m\n\u001b[0;32m    371\u001b[0m     \u001b[38;5;28mself\u001b[39m\u001b[38;5;241m.\u001b[39m_find_modules_with_dyld()\n\u001b[0;32m    372\u001b[0m \u001b[38;5;28;01melif\u001b[39;00m sys\u001b[38;5;241m.\u001b[39mplatform \u001b[38;5;241m==\u001b[39m \u001b[38;5;124m\"\u001b[39m\u001b[38;5;124mwin32\u001b[39m\u001b[38;5;124m\"\u001b[39m:\n\u001b[1;32m--> 373\u001b[0m     \u001b[38;5;28mself\u001b[39m\u001b[38;5;241m.\u001b[39m_find_modules_with_enum_process_module_ex()\n\u001b[0;32m    374\u001b[0m \u001b[38;5;28;01melse\u001b[39;00m:\n\u001b[0;32m    375\u001b[0m     \u001b[38;5;28mself\u001b[39m\u001b[38;5;241m.\u001b[39m_find_modules_with_dl_iterate_phdr()\n",
      "File \u001b[1;32m~\\anaconda3\\Lib\\site-packages\\threadpoolctl.py:485\u001b[0m, in \u001b[0;36m_ThreadpoolInfo._find_modules_with_enum_process_module_ex\u001b[1;34m(self)\u001b[0m\n\u001b[0;32m    482\u001b[0m         filepath \u001b[38;5;241m=\u001b[39m buf\u001b[38;5;241m.\u001b[39mvalue\n\u001b[0;32m    484\u001b[0m         \u001b[38;5;66;03m# Store the module if it is supported and selected\u001b[39;00m\n\u001b[1;32m--> 485\u001b[0m         \u001b[38;5;28mself\u001b[39m\u001b[38;5;241m.\u001b[39m_make_module_from_path(filepath)\n\u001b[0;32m    486\u001b[0m \u001b[38;5;28;01mfinally\u001b[39;00m:\n\u001b[0;32m    487\u001b[0m     kernel_32\u001b[38;5;241m.\u001b[39mCloseHandle(h_process)\n",
      "File \u001b[1;32m~\\anaconda3\\Lib\\site-packages\\threadpoolctl.py:515\u001b[0m, in \u001b[0;36m_ThreadpoolInfo._make_module_from_path\u001b[1;34m(self, filepath)\u001b[0m\n\u001b[0;32m    513\u001b[0m \u001b[38;5;28;01mif\u001b[39;00m prefix \u001b[38;5;129;01min\u001b[39;00m \u001b[38;5;28mself\u001b[39m\u001b[38;5;241m.\u001b[39mprefixes \u001b[38;5;129;01mor\u001b[39;00m user_api \u001b[38;5;129;01min\u001b[39;00m \u001b[38;5;28mself\u001b[39m\u001b[38;5;241m.\u001b[39muser_api:\n\u001b[0;32m    514\u001b[0m     module_class \u001b[38;5;241m=\u001b[39m \u001b[38;5;28mglobals\u001b[39m()[module_class]\n\u001b[1;32m--> 515\u001b[0m     module \u001b[38;5;241m=\u001b[39m module_class(filepath, prefix, user_api, internal_api)\n\u001b[0;32m    516\u001b[0m     \u001b[38;5;28mself\u001b[39m\u001b[38;5;241m.\u001b[39mmodules\u001b[38;5;241m.\u001b[39mappend(module)\n",
      "File \u001b[1;32m~\\anaconda3\\Lib\\site-packages\\threadpoolctl.py:606\u001b[0m, in \u001b[0;36m_Module.__init__\u001b[1;34m(self, filepath, prefix, user_api, internal_api)\u001b[0m\n\u001b[0;32m    604\u001b[0m \u001b[38;5;28mself\u001b[39m\u001b[38;5;241m.\u001b[39minternal_api \u001b[38;5;241m=\u001b[39m internal_api\n\u001b[0;32m    605\u001b[0m \u001b[38;5;28mself\u001b[39m\u001b[38;5;241m.\u001b[39m_dynlib \u001b[38;5;241m=\u001b[39m ctypes\u001b[38;5;241m.\u001b[39mCDLL(filepath, mode\u001b[38;5;241m=\u001b[39m_RTLD_NOLOAD)\n\u001b[1;32m--> 606\u001b[0m \u001b[38;5;28mself\u001b[39m\u001b[38;5;241m.\u001b[39mversion \u001b[38;5;241m=\u001b[39m \u001b[38;5;28mself\u001b[39m\u001b[38;5;241m.\u001b[39mget_version()\n\u001b[0;32m    607\u001b[0m \u001b[38;5;28mself\u001b[39m\u001b[38;5;241m.\u001b[39mnum_threads \u001b[38;5;241m=\u001b[39m \u001b[38;5;28mself\u001b[39m\u001b[38;5;241m.\u001b[39mget_num_threads()\n\u001b[0;32m    608\u001b[0m \u001b[38;5;28mself\u001b[39m\u001b[38;5;241m.\u001b[39m_get_extra_info()\n",
      "File \u001b[1;32m~\\anaconda3\\Lib\\site-packages\\threadpoolctl.py:646\u001b[0m, in \u001b[0;36m_OpenBLASModule.get_version\u001b[1;34m(self)\u001b[0m\n\u001b[0;32m    643\u001b[0m get_config \u001b[38;5;241m=\u001b[39m \u001b[38;5;28mgetattr\u001b[39m(\u001b[38;5;28mself\u001b[39m\u001b[38;5;241m.\u001b[39m_dynlib, \u001b[38;5;124m\"\u001b[39m\u001b[38;5;124mopenblas_get_config\u001b[39m\u001b[38;5;124m\"\u001b[39m,\n\u001b[0;32m    644\u001b[0m                      \u001b[38;5;28;01mlambda\u001b[39;00m: \u001b[38;5;28;01mNone\u001b[39;00m)\n\u001b[0;32m    645\u001b[0m get_config\u001b[38;5;241m.\u001b[39mrestype \u001b[38;5;241m=\u001b[39m ctypes\u001b[38;5;241m.\u001b[39mc_char_p\n\u001b[1;32m--> 646\u001b[0m config \u001b[38;5;241m=\u001b[39m get_config()\u001b[38;5;241m.\u001b[39msplit()\n\u001b[0;32m    647\u001b[0m \u001b[38;5;28;01mif\u001b[39;00m config[\u001b[38;5;241m0\u001b[39m] \u001b[38;5;241m==\u001b[39m \u001b[38;5;124mb\u001b[39m\u001b[38;5;124m\"\u001b[39m\u001b[38;5;124mOpenBLAS\u001b[39m\u001b[38;5;124m\"\u001b[39m:\n\u001b[0;32m    648\u001b[0m     \u001b[38;5;28;01mreturn\u001b[39;00m config[\u001b[38;5;241m1\u001b[39m]\u001b[38;5;241m.\u001b[39mdecode(\u001b[38;5;124m\"\u001b[39m\u001b[38;5;124mutf-8\u001b[39m\u001b[38;5;124m\"\u001b[39m)\n",
      "\u001b[1;31mAttributeError\u001b[0m: 'NoneType' object has no attribute 'split'"
     ]
    }
   ],
   "source": [
    "from imblearn.over_sampling import SMOTE\n",
    "\n",
    "# Initialize SMOTE\n",
    "smote = SMOTE(random_state=42)\n",
    "\n",
    "# Apply SMOTE to balance the dataset\n",
    "x_train_resampled, y_train_resampled = smote.fit_resample(x_train, y_train)\n",
    "\n",
    "# Check new class distribution\n",
    "import numpy as np\n",
    "print(\"Class distribution after SMOTE:\", np.bincount(y_train_resampled))\n"
   ]
  },
  {
   "cell_type": "code",
   "execution_count": 22,
   "id": "a6faa6d5-d372-47c2-b577-a6cb731707bf",
   "metadata": {},
   "outputs": [
    {
     "name": "stdout",
     "output_type": "stream",
     "text": [
      "[['no']\n",
      " ['no']\n",
      " ['no']\n",
      " ...\n",
      " ['no']\n",
      " ['no']\n",
      " ['no']]\n"
     ]
    }
   ],
   "source": [
    "print(y_train)"
   ]
  },
  {
   "cell_type": "code",
   "execution_count": 509,
   "id": "da3176b7-d5b9-49a4-84af-d20de168f928",
   "metadata": {},
   "outputs": [],
   "source": [
    "mean = np.mean(x_train, axis=0)\n",
    "std = np.std(x_train, axis=0)\n",
    "x_train = (x_train - mean) / std\n",
    "x_test = (x_test - mean) / std  # Use train mean & std for test normalization\n"
   ]
  },
  {
   "cell_type": "code",
   "execution_count": 510,
   "id": "f1079a5e-de8b-4ae8-9b2b-d39d3990d8e2",
   "metadata": {},
   "outputs": [],
   "source": [
    "#sigmoid function(0-1)\n",
    "def sigmoid(z):\n",
    "    return 1 / (1+np.exp(-z))"
   ]
  },
  {
   "cell_type": "code",
   "execution_count": 511,
   "id": "f4695acc-c1ca-47d5-a2b8-5cc4c41f32be",
   "metadata": {},
   "outputs": [],
   "source": [
    "#collecting the maximum likelihood\n",
    "def cost(x_train, y_train, w, b, lamda_):\n",
    "    m = len(x_train)\n",
    "    total_cost = 0\n",
    "    for i in range(m):\n",
    "        z = np.dot(x_train[i],w) + b\n",
    "        f_wb = sigmoid(z)\n",
    "        total_cost += -y_train[i] * np.log(f_wb) - (1-y_train[i]) * np.log(1-f_wb)\n",
    "    total_cost /= m\n",
    "    #regularization\n",
    "    reg = (lamda_ / (2 * m)) * np.sum(w**2)\n",
    "    total_cost \n",
    "    return total_cost"
   ]
  },
  {
   "cell_type": "code",
   "execution_count": 512,
   "id": "46000ac3-d611-4904-af03-26be7e1c4667",
   "metadata": {},
   "outputs": [],
   "source": [
    "#collecting gradient\n",
    "def diff(x_train, y_train, w, b, lamda_):\n",
    "    m = len(x_train)\n",
    "    dw = np.zeros_like(w)\n",
    "    db = 0\n",
    "    for i in range(m):\n",
    "        z = np.dot(x_train[i],w) + b\n",
    "        z = sigmoid(z)\n",
    "        dw += np.sum(z-y_train[i])*x_train[i]\n",
    "        db += np.sum(z-y_train[i])\n",
    "    dw /= m\n",
    "    #regularization\n",
    "    reg = (lamda_ /m)*w\n",
    "    dw += reg\n",
    "    db /= m\n",
    "    return dw,db        "
   ]
  },
  {
   "cell_type": "code",
   "execution_count": 513,
   "id": "6b0c1b54-a176-4666-9ebb-4779ea1c456c",
   "metadata": {},
   "outputs": [],
   "source": [
    "#gradient descent(optimization)\n",
    "def gradient(x_train, y_train, w, b, cost, diff, iterations, lamda_, alpha):\n",
    "    tc = []\n",
    "    for i in range(iterations):\n",
    "        dw, db = diff(x_train, y_train, w, b, lamda_)\n",
    "        w = w - alpha * dw\n",
    "        b = b - alpha * db\n",
    "        if i%100 == 0:\n",
    "            total_cost = cost(x_train, y_train, w, b, lamda_)\n",
    "            tc.append(total_cost)\n",
    "            print(f\"iteration {i} : cost {total_cost}\")\n",
    "    return w,b,tc        "
   ]
  },
  {
   "cell_type": "code",
   "execution_count": 514,
   "id": "c5dcfdac-0631-4a90-ab67-2fb1eb1e4e17",
   "metadata": {},
   "outputs": [
    {
     "name": "stdout",
     "output_type": "stream",
     "text": [
      "iteration 0 : cost 1.5049034110454411\n",
      "iteration 100 : cost 1.5049009113057297\n",
      "iteration 200 : cost 1.5048984115684918\n",
      "iteration 300 : cost 1.5048959118378804\n",
      "iteration 400 : cost 1.504893412109081\n",
      "iteration 500 : cost 1.5048909123587455\n",
      "iteration 600 : cost 1.5048884126387707\n",
      "iteration 700 : cost 1.504885912922489\n",
      "iteration 800 : cost 1.5048834132105866\n",
      "iteration 900 : cost 1.5048809135027366\n",
      "4000 26\n",
      "[1.5049034110454411, 1.5049009113057297, 1.5048984115684918, 1.5048959118378804, 1.504893412109081, 1.5048909123587455, 1.5048884126387707, 1.504885912922489, 1.5048834132105866, 1.5048809135027366]\n"
     ]
    }
   ],
   "source": [
    "#parameters, learning rate, iterations(for training set) \n",
    "m,n = x_train.shape\n",
    "w = np.ones(n)*1\n",
    "b = 0\n",
    "alpha = 1e-7 #learning rate\n",
    "\n",
    "lamda_ = 0.1\n",
    "iterations = 1000\n",
    "\n",
    "w,b,costs = gradient(x_train, y_train, w, b, cost, diff, iterations, lamda_, alpha)\n",
    "print(m,n)\n",
    "print(costs)"
   ]
  },
  {
   "cell_type": "code",
   "execution_count": 515,
   "id": "443c3713-708c-48bc-9add-d3662ed6f8ac",
   "metadata": {},
   "outputs": [
    {
     "data": {
      "image/png": "[encoded data removed]",
      "text/plain": [
       "<Figure size 640x480 with 1 Axes>"
      ]
     },
     "metadata": {},
     "output_type": "display_data"
    }
   ],
   "source": [
    "#visualizations\n",
    "plt.plot(range(0, iterations, 100), costs, marker='o')\n",
    "plt.xlabel('Iterations')\n",
    "plt.ylabel('Cost')\n",
    "plt.title('Cost vs. Iterations')\n",
    "plt.show()"
   ]
  },
  {
   "cell_type": "code",
   "execution_count": 516,
   "id": "a42de440-24b7-439f-bf95-89d355f563f3",
   "metadata": {},
   "outputs": [
    {
     "name": "stdout",
     "output_type": "stream",
     "text": [
      "iteration 0 : cost 0.6931471631869007\n",
      "iteration 100 : cost 0.6931454258871752\n",
      "iteration 200 : cost 0.693143688596881\n",
      "iteration 300 : cost 0.6931419513160201\n",
      "iteration 400 : cost 0.6931402140445891\n",
      "iteration 500 : cost 0.6931384767825904\n",
      "iteration 600 : cost 0.6931367395300241\n",
      "iteration 700 : cost 0.6931350022868897\n",
      "iteration 800 : cost 0.6931332650531844\n",
      "iteration 900 : cost 0.6931315278289133\n",
      "iteration 1000 : cost 0.6931297906140719\n",
      "iteration 1100 : cost 0.6931280534086619\n",
      "iteration 1200 : cost 0.6931263162126842\n",
      "iteration 1300 : cost 0.6931245790261363\n",
      "iteration 1400 : cost 0.6931228418490208\n",
      "iteration 1500 : cost 0.6931211046813357\n",
      "iteration 1600 : cost 0.6931193675230831\n",
      "iteration 1700 : cost 0.6931176303742586\n",
      "iteration 1800 : cost 0.6931158932348678\n",
      "iteration 1900 : cost 0.6931141561049072\n",
      "m, n: 521,26\n"
     ]
    }
   ],
   "source": [
    "#parameters, learning rate, iterations(for testing set) \n",
    "m,n = x_test.shape\n",
    "w = np.zeros(n) *1\n",
    "b = 0\n",
    "alpha = 1e-7 #learning rate\n",
    "\n",
    "lamda_ = 0.1\n",
    "iterations = 2000\n",
    "\n",
    "w,b,costs = gradient(x_test, y_test, w, b, cost, diff, iterations, lamda_, alpha)\n",
    "print(f'm, n: {m},{n}')"
   ]
  },
  {
   "cell_type": "code",
   "execution_count": 517,
   "id": "b1b01b54-0c7f-4eb0-ab4c-b762809729cf",
   "metadata": {},
   "outputs": [],
   "source": [
    " # Should match\n"
   ]
  },
  {
   "cell_type": "code",
   "execution_count": 518,
   "id": "9105aa97-4eea-40f1-a414-10a248a6f0a4",
   "metadata": {},
   "outputs": [
    {
     "name": "stdout",
     "output_type": "stream",
     "text": [
      "(4000,) (4000,)\n",
      "Accuracy:               precision    recall  f1-score   support\n",
      "\n",
      "           0       0.90      0.97      0.93      3542\n",
      "           1       0.44      0.18      0.26       458\n",
      "\n",
      "    accuracy                           0.88      4000\n",
      "   macro avg       0.67      0.58      0.60      4000\n",
      "weighted avg       0.85      0.88      0.86      4000\n",
      "\n",
      "Model Accuracy: 0.88\n"
     ]
    }
   ],
   "source": [
    "from sklearn.metrics import accuracy_score\n",
    "\n",
    "# Compute sigmoid predictions (element-wise)\n",
    "z = np.dot(x_train, w) + b\n",
    "f_wb = sigmoid(z)  # This should be a NumPy array, not a single value\n",
    "\n",
    "# Convert probabilities to binary labels (0 or 1)\n",
    "y_pred = (f_wb >= 0.5).astype(int)\n",
    "print(f_wb.shape, y_train.shape) \n",
    "print(\"Accuracy:\", classification_report(y_train, y_pred))\n",
    "# Compute accuracy\n",
    "accuracy = accuracy_score(y_train, y_pred)\n",
    "print(f\"Model Accuracy: {accuracy:.2f}\")"
   ]
  },
  {
   "cell_type": "code",
   "execution_count": 519,
   "id": "6f1914b6-2f95-42f1-ba5a-e59c1d1c0ecf",
   "metadata": {},
   "outputs": [
    {
     "name": "stdout",
     "output_type": "stream",
     "text": [
      "Confusion Matrix:\n",
      " [[3436  106]\n",
      " [ 374   84]]\n"
     ]
    }
   ],
   "source": [
    "from sklearn.metrics import confusion_matrix\n",
    "\n",
    "cm = confusion_matrix(y_train, y_pred)\n",
    "print(\"Confusion Matrix:\\n\", cm)\n"
   ]
  },
  {
   "cell_type": "code",
   "execution_count": 520,
   "id": "ebd38a32-4daa-4a64-b276-65b20098d0d6",
   "metadata": {},
   "outputs": [
    {
     "data": {
      "image/png": "[encoded data removed]",
      "text/plain": [
       "<Figure size 600x600 with 1 Axes>"
      ]
     },
     "metadata": {},
     "output_type": "display_data"
    },
    {
     "name": "stdout",
     "output_type": "stream",
     "text": [
      "Accuracy:               precision    recall  f1-score   support\n",
      "\n",
      "           0       0.90      0.97      0.93      3542\n",
      "           1       0.44      0.18      0.26       458\n",
      "\n",
      "    accuracy                           0.88      4000\n",
      "   macro avg       0.67      0.58      0.60      4000\n",
      "weighted avg       0.85      0.88      0.86      4000\n",
      "\n"
     ]
    }
   ],
   "source": [
    "from sklearn.metrics import roc_curve, auc\n",
    "import matplotlib.pyplot as plt\n",
    "\n",
    "# Get False Positive Rate (FPR), True Positive Rate (TPR), and thresholds\n",
    "fpr, tpr, thresholds = roc_curve(y_train, f_wb)\n",
    "\n",
    "# Compute AUC (Area Under Curve)\n",
    "auc_score = auc(fpr, tpr)\n",
    "\n",
    "# Plot ROC Curve\n",
    "plt.figure(figsize=(6, 6))\n",
    "plt.plot(fpr, tpr, label=f'AUC = {auc_score:.2f}')\n",
    "plt.plot([0, 1], [0, 1], 'r--')  # Random model line\n",
    "plt.xlabel('False Positive Rate')\n",
    "plt.ylabel('True Positive Rate')\n",
    "plt.title('ROC Curve')\n",
    "plt.legend()\n",
    "plt.show()\n",
    "print(\"Accuracy:\", classification_report(y_train, y_pred))"
   ]
  },
  {
   "cell_type": "code",
   "execution_count": 521,
   "id": "eb6cf507-8b82-4cc5-8bfc-412350c4741e",
   "metadata": {},
   "outputs": [
    {
     "name": "stdout",
     "output_type": "stream",
     "text": [
      "Mean after scaling: [-8.88178420e-18 -5.32907052e-18 -1.55431223e-17  6.66133815e-18\n",
      " -1.77635684e-18  8.88178420e-18  8.88178420e-18 -8.88178420e-19\n",
      " -7.10542736e-18 -3.50830476e-17 -8.88178420e-19  1.24344979e-17\n",
      "  8.88178420e-18 -4.44089210e-19 -1.77635684e-17 -4.35207426e-17\n",
      "  1.95399252e-17 -2.84217094e-17  4.08562073e-17 -6.66133815e-18\n",
      " -3.46389584e-17  5.32907052e-18  2.22044605e-17  1.24344979e-17\n",
      " -1.03028697e-16  1.77635684e-18]\n",
      "Std after scaling: [1. 1. 1. 1. 1. 1. 1. 1. 1. 1. 1. 1. 1. 1. 1. 1. 1. 1. 1. 1. 1. 1. 1. 1.\n",
      " 1. 1.]\n"
     ]
    }
   ],
   "source": [
    "from sklearn.preprocessing import StandardScaler\n",
    "\n",
    "scaler = StandardScaler()\n",
    "x_train = scaler.fit_transform(x_train)\n",
    "x_test = scaler.transform(x_test)\n",
    "\n",
    "print(\"Mean after scaling:\", np.mean(x_train, axis=0))\n",
    "print(\"Std after scaling:\", np.std(x_train, axis=0))  # Should be ~1 for all features\n"
   ]
  },
  {
   "cell_type": "code",
   "execution_count": 522,
   "id": "e1e3854d-a57c-4f3e-b39d-f912ca1c0a5c",
   "metadata": {},
   "outputs": [],
   "source": [
    "from sklearn.utils import shuffle\n",
    "\n",
    "x_train, y_train = shuffle(x_train, y_train, random_state=42)\n"
   ]
  },
  {
   "cell_type": "code",
   "execution_count": 523,
   "id": "8298483f-d547-4d04-8080-a5c54afedf41",
   "metadata": {},
   "outputs": [],
   "source": [
    "from imblearn.over_sampling import SMOTE\n",
    "smote = SMOTE(random_state=42)\n",
    "x_train, y_train = smote.fit_resample(x_train, y_train)\n"
   ]
  },
  {
   "cell_type": "code",
   "execution_count": 524,
   "id": "a285f772-6941-4956-8d70-e1a208ad0ad4",
   "metadata": {},
   "outputs": [
    {
     "name": "stdout",
     "output_type": "stream",
     "text": [
      "Decision Tree Accuracy: 0.8195777351247601\n"
     ]
    }
   ],
   "source": [
    "from sklearn.tree import DecisionTreeClassifier\n",
    "\n",
    "model = DecisionTreeClassifier(random_state=42)\n",
    "model.fit(x_train, y_train)\n",
    "print(\"Decision Tree Accuracy:\", model.score(x_test, y_test))\n"
   ]
  },
  {
   "cell_type": "code",
   "execution_count": 525,
   "id": "c2f08dfa-26e4-4878-b31f-39a4f0bf22a9",
   "metadata": {},
   "outputs": [
    {
     "name": "stdout",
     "output_type": "stream",
     "text": [
      "Accuracy:               precision    recall  f1-score   support\n",
      "\n",
      "           0       0.96      0.79      0.87       458\n",
      "           1       0.34      0.76      0.47        63\n",
      "\n",
      "    accuracy                           0.79       521\n",
      "   macro avg       0.65      0.78      0.67       521\n",
      "weighted avg       0.88      0.79      0.82       521\n",
      "\n"
     ]
    }
   ],
   "source": [
    "from sklearn.linear_model import LogisticRegression\n",
    "from sklearn.metrics import classification_report\n",
    "\n",
    "model = LogisticRegression()\n",
    "model.fit(x_train, y_train.ravel())\n",
    "y_pred = model.predict(x_test)\n",
    "y_pred_proba = model.predict_proba(x_test)[:, 1]\n",
    "\n",
    "print(\"Accuracy:\", classification_report(y_test, y_pred))\n",
    "\n"
   ]
  },
  {
   "cell_type": "code",
   "execution_count": 526,
   "id": "42e78602-0ca6-48e0-a44d-746468fe91e5",
   "metadata": {},
   "outputs": [
    {
     "name": "stdout",
     "output_type": "stream",
     "text": [
      "0\n",
      "0\n",
      "0\n"
     ]
    }
   ],
   "source": [
    "print(np.isnan(x_train).sum())  # Should be 0\n",
    "print(np.isinf(x_train).sum())  # Should be 0\n",
    "print(np.isnan(y_train).sum())  # Should be 0\n"
   ]
  },
  {
   "cell_type": "code",
   "execution_count": 527,
   "id": "f0bc6555-ed14-4ab9-b108-12183e98fad6",
   "metadata": {},
   "outputs": [
    {
     "name": "stdout",
     "output_type": "stream",
     "text": [
      "Accuracy:               precision    recall  f1-score   support\n",
      "\n",
      "           0       0.96      0.79      0.87       458\n",
      "           1       0.34      0.76      0.47        63\n",
      "\n",
      "    accuracy                           0.79       521\n",
      "   macro avg       0.65      0.78      0.67       521\n",
      "weighted avg       0.88      0.79      0.82       521\n",
      "\n"
     ]
    }
   ],
   "source": [
    "from sklearn.ensemble import RandomForestClassifier\n",
    "rf = RandomForestClassifier(class_weight=\"balanced\", random_state=42)\n",
    "rf.fit(x_train, y_train)\n",
    "print(\"Accuracy:\", classification_report(y_test, y_pred))\n"
   ]
  },
  {
   "cell_type": "code",
   "execution_count": 536,
   "id": "9d726692-1a82-45f2-9809-17496f8d2598",
   "metadata": {},
   "outputs": [
    {
     "name": "stdout",
     "output_type": "stream",
     "text": [
      "Collecting xgboost\n",
      "  Downloading xgboost-2.1.4-py3-none-win_amd64.whl.metadata (2.1 kB)\n",
      "Requirement already satisfied: numpy in c:\\users\\kulwant dhillon\\anaconda3\\lib\\site-packages (from xgboost) (1.26.4)\n",
      "Requirement already satisfied: scipy in c:\\users\\kulwant dhillon\\anaconda3\\lib\\site-packages (from xgboost) (1.11.4)\n",
      "Downloading xgboost-2.1.4-py3-none-win_amd64.whl (124.9 MB)\n",
      "   ---------------------------------------- 0.0/124.9 MB ? eta -:--:--\n",
      "   ---------------------------------------- 0.0/124.9 MB ? eta -:--:--\n",
      "   ---------------------------------------- 0.0/124.9 MB 435.7 kB/s eta 0:04:47\n",
      "   ---------------------------------------- 0.2/124.9 MB 1.7 MB/s eta 0:01:15\n",
      "   ---------------------------------------- 1.3/124.9 MB 8.2 MB/s eta 0:00:16\n",
      "    --------------------------------------- 2.6/124.9 MB 12.7 MB/s eta 0:00:10\n",
      "   - -------------------------------------- 4.2/124.9 MB 16.6 MB/s eta 0:00:08\n",
      "   - -------------------------------------- 5.8/124.9 MB 18.6 MB/s eta 0:00:07\n",
      "   -- ------------------------------------- 7.5/124.9 MB 21.7 MB/s eta 0:00:06\n",
      "   -- ------------------------------------- 9.0/124.9 MB 22.9 MB/s eta 0:00:06\n",
      "   --- ------------------------------------ 10.8/124.9 MB 34.4 MB/s eta 0:00:04\n",
      "   ---- ----------------------------------- 12.6/124.9 MB 36.3 MB/s eta 0:00:04\n",
      "   ---- ----------------------------------- 14.7/124.9 MB 38.6 MB/s eta 0:00:03\n",
      "   ----- ---------------------------------- 16.8/124.9 MB 40.9 MB/s eta 0:00:03\n",
      "   ------ --------------------------------- 18.9/124.9 MB 43.7 MB/s eta 0:00:03\n",
      "   ------ --------------------------------- 21.2/124.9 MB 46.7 MB/s eta 0:00:03\n",
      "   ------- -------------------------------- 23.7/124.9 MB 46.7 MB/s eta 0:00:03\n",
      "   -------- ------------------------------- 26.0/124.9 MB 50.4 MB/s eta 0:00:02\n",
      "   --------- ------------------------------ 28.5/124.9 MB 50.4 MB/s eta 0:00:02\n",
      "   --------- ------------------------------ 30.9/124.9 MB 54.4 MB/s eta 0:00:02\n",
      "   ---------- ----------------------------- 33.5/124.9 MB 54.4 MB/s eta 0:00:02\n",
      "   ----------- ---------------------------- 35.9/124.9 MB 54.4 MB/s eta 0:00:02\n",
      "   ------------ --------------------------- 38.1/124.9 MB 54.4 MB/s eta 0:00:02\n",
      "   ------------- -------------------------- 40.7/124.9 MB 54.7 MB/s eta 0:00:02\n",
      "   ------------- -------------------------- 43.1/124.9 MB 54.7 MB/s eta 0:00:02\n",
      "   -------------- ------------------------- 45.5/124.9 MB 54.7 MB/s eta 0:00:02\n",
      "   --------------- ------------------------ 48.1/124.9 MB 54.7 MB/s eta 0:00:02\n",
      "   ---------------- ----------------------- 50.7/124.9 MB 54.4 MB/s eta 0:00:02\n",
      "   ----------------- ---------------------- 53.2/124.9 MB 54.4 MB/s eta 0:00:02\n",
      "   ----------------- ---------------------- 55.8/124.9 MB 59.5 MB/s eta 0:00:02\n",
      "   ------------------ --------------------- 58.3/124.9 MB 54.4 MB/s eta 0:00:02\n",
      "   ------------------- -------------------- 60.9/124.9 MB 54.7 MB/s eta 0:00:02\n",
      "   -------------------- ------------------- 63.5/124.9 MB 54.7 MB/s eta 0:00:02\n",
      "   --------------------- ------------------ 65.9/124.9 MB 54.7 MB/s eta 0:00:02\n",
      "   --------------------- ------------------ 68.3/124.9 MB 54.7 MB/s eta 0:00:02\n",
      "   ---------------------- ----------------- 71.0/124.9 MB 54.4 MB/s eta 0:00:01\n",
      "   ----------------------- ---------------- 73.7/124.9 MB 54.4 MB/s eta 0:00:01\n",
      "   ------------------------ --------------- 76.1/124.9 MB 54.4 MB/s eta 0:00:01\n",
      "   ------------------------- -------------- 78.8/124.9 MB 54.4 MB/s eta 0:00:01\n",
      "   ------------------------- -------------- 79.7/124.9 MB 54.7 MB/s eta 0:00:01\n",
      "   ------------------------- -------------- 79.9/124.9 MB 40.9 MB/s eta 0:00:02\n",
      "   ------------------------- -------------- 79.9/124.9 MB 40.9 MB/s eta 0:00:02\n",
      "   ------------------------- -------------- 80.1/124.9 MB 31.2 MB/s eta 0:00:02\n",
      "   -------------------------- ------------- 81.3/124.9 MB 28.5 MB/s eta 0:00:02\n",
      "   -------------------------- ------------- 82.3/124.9 MB 26.2 MB/s eta 0:00:02\n",
      "   -------------------------- ------------- 82.6/124.9 MB 23.4 MB/s eta 0:00:02\n",
      "   -------------------------- ------------- 83.1/124.9 MB 23.4 MB/s eta 0:00:02\n",
      "   -------------------------- ------------- 83.1/124.9 MB 23.4 MB/s eta 0:00:02\n",
      "   -------------------------- ------------- 83.1/124.9 MB 23.4 MB/s eta 0:00:02\n",
      "   -------------------------- ------------- 83.1/124.9 MB 23.4 MB/s eta 0:00:02\n",
      "   -------------------------- ------------- 83.8/124.9 MB 16.0 MB/s eta 0:00:03\n",
      "   ---------------------------- ----------- 87.7/124.9 MB 16.4 MB/s eta 0:00:03\n",
      "   ---------------------------- ----------- 88.8/124.9 MB 15.6 MB/s eta 0:00:03\n",
      "   ---------------------------- ----------- 89.9/124.9 MB 15.2 MB/s eta 0:00:03\n",
      "   ----------------------------- ---------- 91.0/124.9 MB 19.9 MB/s eta 0:00:02\n",
      "   ----------------------------- ---------- 92.1/124.9 MB 19.3 MB/s eta 0:00:02\n",
      "   ----------------------------- ---------- 93.5/124.9 MB 32.7 MB/s eta 0:00:01\n",
      "   ------------------------------ --------- 95.0/124.9 MB 34.4 MB/s eta 0:00:01\n",
      "   ------------------------------ --------- 96.7/124.9 MB 31.2 MB/s eta 0:00:01\n",
      "   ------------------------------- -------- 98.3/124.9 MB 29.7 MB/s eta 0:00:01\n",
      "   ------------------------------- ------- 100.2/124.9 MB 32.7 MB/s eta 0:00:01\n",
      "   ------------------------------- ------- 102.2/124.9 MB 36.4 MB/s eta 0:00:01\n",
      "   -------------------------------- ------ 104.0/124.9 MB 38.6 MB/s eta 0:00:01\n",
      "   --------------------------------- ----- 106.1/124.9 MB 40.9 MB/s eta 0:00:01\n",
      "   --------------------------------- ----- 108.2/124.9 MB 43.7 MB/s eta 0:00:01\n",
      "   ---------------------------------- ---- 110.3/124.9 MB 43.7 MB/s eta 0:00:01\n",
      "   ----------------------------------- --- 112.3/124.9 MB 43.5 MB/s eta 0:00:01\n",
      "   ----------------------------------- --- 114.4/124.9 MB 43.5 MB/s eta 0:00:01\n",
      "   ------------------------------------ -- 116.2/124.9 MB 43.5 MB/s eta 0:00:01\n",
      "   ------------------------------------ -- 118.4/124.9 MB 43.7 MB/s eta 0:00:01\n",
      "   ------------------------------------- - 120.5/124.9 MB 43.7 MB/s eta 0:00:01\n",
      "   --------------------------------------  122.6/124.9 MB 43.7 MB/s eta 0:00:01\n",
      "   --------------------------------------  124.5/124.9 MB 40.9 MB/s eta 0:00:01\n",
      "   --------------------------------------  124.9/124.9 MB 43.7 MB/s eta 0:00:01\n",
      "   --------------------------------------  124.9/124.9 MB 43.7 MB/s eta 0:00:01\n",
      "   --------------------------------------  124.9/124.9 MB 43.7 MB/s eta 0:00:01\n",
      "   --------------------------------------  124.9/124.9 MB 43.7 MB/s eta 0:00:01\n",
      "   --------------------------------------  124.9/124.9 MB 43.7 MB/s eta 0:00:01\n",
      "   --------------------------------------  124.9/124.9 MB 43.7 MB/s eta 0:00:01\n",
      "   --------------------------------------- 124.9/124.9 MB 19.8 MB/s eta 0:00:00\n",
      "Installing collected packages: xgboost\n",
      "Successfully installed xgboost-2.1.4\n",
      "Note: you may need to restart the kernel to use updated packages.\n"
     ]
    }
   ],
   "source": [
    "pip install xgboost"
   ]
  },
  {
   "cell_type": "code",
   "execution_count": 543,
   "id": "2870df29-d038-4c68-95bc-cfc525c6d7a3",
   "metadata": {},
   "outputs": [
    {
     "name": "stdout",
     "output_type": "stream",
     "text": [
      "Best Params: {'max_depth': 15, 'min_samples_leaf': 1, 'min_samples_split': 2}\n",
      "Updated Decision Tree Accuracy: 0.8330134357005758\n",
      "Accuracy:               precision    recall  f1-score   support\n",
      "\n",
      "           0       0.92      0.92      0.92       458\n",
      "           1       0.43      0.41      0.42        63\n",
      "\n",
      "    accuracy                           0.86       521\n",
      "   macro avg       0.67      0.67      0.67       521\n",
      "weighted avg       0.86      0.86      0.86       521\n",
      "\n"
     ]
    }
   ],
   "source": [
    "from sklearn.ensemble import RandomForestClassifier\n",
    "from sklearn.metrics import classification_report\n",
    "from sklearn.tree import DecisionTreeClassifier\n",
    "from sklearn.ensemble import RandomForestClassifier\n",
    "\n",
    "rf = RandomForestClassifier(class_weight=\"balanced\", random_state=42)\n",
    "rf.fit(x_train, y_train)\n",
    "from sklearn.model_selection import GridSearchCV\n",
    "\n",
    "param_grid = {\n",
    "    'max_depth': [5, 10, 15],\n",
    "    'min_samples_split': [2, 5, 10],\n",
    "    'min_samples_leaf': [1, 2, 4]\n",
    "}\n",
    "grid = GridSearchCV(RandomForestClassifier(class_weight=\"balanced\"), param_grid, cv=5)\n",
    "grid.fit(x_train, y_train)\n",
    "print(\"Best Params:\", grid.best_params_)\n",
    "\n",
    "from imblearn.over_sampling import SMOTE\n",
    "sm = SMOTE(random_state=42)\n",
    "x_train_res, y_train_res = sm.fit_resample(x_train, y_train)\n",
    "\n",
    "from xgboost import XGBClassifier\n",
    "xgb = XGBClassifier(max_depth=15, learning_rate=0.1, n_estimators=100)\n",
    "xgb.fit(x_train, y_train)\n",
    "\n",
    "dt_model = DecisionTreeClassifier(class_weight={0: 1, 1: 3}, random_state=42)\n",
    "dt_model.fit(x_train, y_train)\n",
    "\n",
    "y_pred = dt_model.predict(x_test)\n",
    "print(\"Updated Decision Tree Accuracy:\", accuracy_score(y_test, y_pred))\n",
    "\n",
    "\n",
    "model = RandomForestClassifier()\n",
    "model.fit(x_train, y_train)\n",
    "y_pred = model.predict(x_test)\n",
    "\n",
    "print(\"Accuracy:\", classification_report(y_test, y_pred))"
   ]
  },
  {
   "cell_type": "code",
   "execution_count": 544,
   "id": "4347f38a-9331-4333-99ee-905a3f8ab96f",
   "metadata": {},
   "outputs": [
    {
     "data": {
      "image/png": "[encoded data removed]",
      "text/plain": [
       "<Figure size 640x480 with 1 Axes>"
      ]
     },
     "metadata": {},
     "output_type": "display_data"
    }
   ],
   "source": [
    "from xgboost import plot_importance\n",
    "import matplotlib.pyplot as plt\n",
    "\n",
    "plot_importance(xgb)\n",
    "plt.show()\n"
   ]
  },
  {
   "cell_type": "code",
   "execution_count": 529,
   "id": "075580ed-9b63-4934-ba0b-612c9eae36c3",
   "metadata": {},
   "outputs": [
    {
     "name": "stdout",
     "output_type": "stream",
     "text": [
      "Mean after scaling: [ 4.30673754e-17  3.28177162e-17 -2.00996757e-17 -6.86421558e-16\n",
      " -1.91847291e-15 -1.01603273e-15  1.41493881e-15  4.17705741e-15\n",
      "  1.56722618e-17  2.74640715e-16  9.34851983e-15  7.66310912e-16\n",
      "  8.56363728e-16 -2.12359931e-15  4.89256668e-16  1.76930432e-15\n",
      "  3.40461080e-15 -4.34195311e-15  4.51596223e-16  9.46259822e-16\n",
      "  2.34519725e-15  2.04448573e-15  5.56921659e-15 -1.09301645e-14\n",
      "  4.48477443e-16 -8.79655844e-15]\n",
      "Std after scaling: [1. 1. 1. 1. 1. 1. 1. 1. 1. 1. 1. 1. 1. 1. 1. 1. 1. 1. 1. 1. 1. 1. 1. 1.\n",
      " 1. 1.]\n"
     ]
    }
   ],
   "source": [
    "from sklearn.preprocessing import StandardScaler\n",
    "\n",
    "scaler = StandardScaler()\n",
    "x_train = scaler.fit_transform(x_train)\n",
    "x_test = scaler.transform(x_test)\n",
    "\n",
    "print(\"Mean after scaling:\", np.mean(x_train, axis=0))\n",
    "print(\"Std after scaling:\", np.std(x_train, axis=0))  # Should be ~1 for all features\n"
   ]
  },
  {
   "cell_type": "code",
   "execution_count": null,
   "id": "7795b8cb-bf65-460b-8239-aa74f66b1976",
   "metadata": {},
   "outputs": [],
   "source": [
    "Updated Decision Tree Accuracy: 0.8330134357005758\n",
    "Accuracy:               precision    recall  f1-score   support\n",
    "\n",
    "           0       0.92      0.93      0.93       458\n",
    "           1       0.46      0.44      0.45        63\n",
    "\n",
    "    accuracy                           0.87       521\n",
    "   macro avg       0.69      0.69      0.69       521\n",
    "weighted avg       0.87      0.87      0.87       521\n"
   ]
  }
 ],
 "metadata": {
  "kernelspec": {
   "display_name": "Python 3 (ipykernel)",
   "language": "python",
   "name": "python3"
  },
  "language_info": {
   "codemirror_mode": {
    "name": "ipython",
    "version": 3
   },
   "file_extension": ".py",
   "mimetype": "text/x-python",
   "name": "python",
   "nbconvert_exporter": "python",
   "pygments_lexer": "ipython3",
   "version": "3.11.7"
  }
 },
 "nbformat": 4,
 "nbformat_minor": 5
}
